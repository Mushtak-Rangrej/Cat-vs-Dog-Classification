{
  "nbformat": 4,
  "nbformat_minor": 0,
  "metadata": {
    "colab": {
      "provenance": []
    },
    "kernelspec": {
      "name": "python3",
      "display_name": "Python 3"
    },
    "language_info": {
      "name": "python"
    },
    "accelerator": "GPU",
    "gpuClass": "standard"
  },
  "cells": [
    {
      "cell_type": "code",
      "execution_count": null,
      "metadata": {
        "id": "tibUYnvkr-zn"
      },
      "outputs": [],
      "source": [
        "!mkdir -p ~/.kaggle\n",
        "!cp kaggle.json ~/.kaggle/"
      ]
    },
    {
      "cell_type": "code",
      "source": [
        "!kaggle datasets download -d salader/dogs-vs-cats"
      ],
      "metadata": {
        "id": "La0YdM2OszCW",
        "colab": {
          "base_uri": "https://localhost:8080/"
        },
        "outputId": "c567de87-1025-49d5-e82d-11f9d52e34a6"
      },
      "execution_count": null,
      "outputs": [
        {
          "output_type": "stream",
          "name": "stdout",
          "text": [
            "Warning: Your Kaggle API key is readable by other users on this system! To fix this, you can run 'chmod 600 /root/.kaggle/kaggle.json'\n",
            "401 - Unauthorized\n"
          ]
        }
      ]
    },
    {
      "cell_type": "code",
      "source": [
        "import zipfile\n",
        "zip_ref = zipfile.ZipFile('/content/dogs-vs-cats.zip', 'r')\n",
        "zip_ref.extractall('/content')\n",
        "zip_ref.close()"
      ],
      "metadata": {
        "id": "2M8gacjEsztZ"
      },
      "execution_count": null,
      "outputs": []
    },
    {
      "cell_type": "code",
      "source": [
        "import tensorflow as tf\n",
        "from tensorflow import keras\n",
        "from keras import Sequential\n",
        "from keras.layers import Dense, Conv2D, MaxPooling2D, Flatten, BatchNormalization, Dropout"
      ],
      "metadata": {
        "id": "-SZR7fZkghmY"
      },
      "execution_count": null,
      "outputs": []
    },
    {
      "cell_type": "code",
      "source": [
        "#generators\n",
        "train_ds = keras.utils.image_dataset_from_directory(\n",
        "    directory = \"/content/train\",\n",
        "    labels = 'inferred',\n",
        "    label_mode = \"int\",\n",
        "    batch_size = 32,\n",
        "    image_size = (256, 256)\n",
        "\n",
        ")"
      ],
      "metadata": {
        "colab": {
          "base_uri": "https://localhost:8080/"
        },
        "id": "vKdEcbnfhXe0",
        "outputId": "f10743ea-7957-4d35-ad6f-dffa74648aee"
      },
      "execution_count": null,
      "outputs": [
        {
          "output_type": "stream",
          "name": "stdout",
          "text": [
            "Found 20000 files belonging to 2 classes.\n"
          ]
        }
      ]
    },
    {
      "cell_type": "code",
      "source": [
        "validation_ds = keras.utils.image_dataset_from_directory(\n",
        "    directory = \"/content/test\",\n",
        "    labels = 'inferred',\n",
        "    label_mode = \"int\",\n",
        "    batch_size = 32,\n",
        "    image_size = (256, 256)\n",
        "\n",
        ")"
      ],
      "metadata": {
        "colab": {
          "base_uri": "https://localhost:8080/"
        },
        "id": "FmF7uZ8gjYuu",
        "outputId": "6e4a9c8d-8417-425e-a36b-92efdf3d2f9a"
      },
      "execution_count": null,
      "outputs": [
        {
          "output_type": "stream",
          "name": "stdout",
          "text": [
            "Found 5000 files belonging to 2 classes.\n"
          ]
        }
      ]
    },
    {
      "cell_type": "code",
      "source": [
        "# Normalization the pixel value between 0 to 1\n",
        "def process(image, label):\n",
        "  image = tf.cast(image/255 , tf.float32)\n",
        "  return image, label"
      ],
      "metadata": {
        "id": "r79nuU4FjovU"
      },
      "execution_count": null,
      "outputs": []
    },
    {
      "cell_type": "code",
      "source": [
        "train_ds = train_ds.map(process)\n",
        "validation_ds = validation_ds.map(process)"
      ],
      "metadata": {
        "id": "7JXMrnMdkYo2"
      },
      "execution_count": null,
      "outputs": []
    },
    {
      "cell_type": "code",
      "source": [
        "train_ds"
      ],
      "metadata": {
        "colab": {
          "base_uri": "https://localhost:8080/"
        },
        "id": "LIYMCS5fkuAS",
        "outputId": "638a6d71-2db6-4e70-bfa8-8b9c65066a19"
      },
      "execution_count": null,
      "outputs": [
        {
          "output_type": "execute_result",
          "data": {
            "text/plain": [
              "<MapDataset element_spec=(TensorSpec(shape=(None, 256, 256, 3), dtype=tf.float32, name=None), TensorSpec(shape=(None,), dtype=tf.int32, name=None))>"
            ]
          },
          "metadata": {},
          "execution_count": 21
        }
      ]
    },
    {
      "cell_type": "code",
      "source": [
        "# create model\n",
        "model = Sequential()\n",
        "model.add(Conv2D(32, kernel_size = (3, 3), padding= \"valid\", activation = \"relu\",\n",
        "                 input_shape = (256, 256, 3) ))\n",
        "model.add(BatchNormalization())\n",
        "model.add(MaxPooling2D(pool_size =(2, 2),strides = 2, padding = \"valid\"))\n",
        "\n",
        "model.add(Conv2D(32, kernel_size = (3, 3), padding= \"valid\", activation = \"relu\",))\n",
        "model.add(BatchNormalization())\n",
        "model.add(MaxPooling2D(pool_size =(2, 2),strides = 2, padding = \"valid\"))\n",
        "\n",
        "model.add(Conv2D(32, kernel_size = (3, 3), padding= \"valid\", activation = \"relu\",))\n",
        "model.add(BatchNormalization())\n",
        "model.add(MaxPooling2D(pool_size =(2, 2),strides = 2, padding = \"valid\"))\n",
        "\n",
        "model.add(Flatten())\n",
        "\n",
        "model.add(Dense(128, activation = \"relu\"))\n",
        "model.add(Dropout(0.1))\n",
        "\n",
        "model.add(Dense(64, activation = \"relu\"))\n",
        "model.add(Dropout(0.1))\n",
        "\n",
        "model.add(Dense(1, activation = \"sigmoid\"))"
      ],
      "metadata": {
        "id": "6vsLoRy9k2i-"
      },
      "execution_count": null,
      "outputs": []
    },
    {
      "cell_type": "code",
      "source": [
        "model.compile(optimizer = \"adam\", loss = \"binary_crossentropy\", metrics = [\"accuracy\"])"
      ],
      "metadata": {
        "id": "zlK6bc5pnGMA"
      },
      "execution_count": null,
      "outputs": []
    },
    {
      "cell_type": "code",
      "source": [
        "history = model.fit(train_ds, epochs = 15, validation_data = validation_ds)"
      ],
      "metadata": {
        "colab": {
          "base_uri": "https://localhost:8080/"
        },
        "id": "b7h24zPmnjWS",
        "outputId": "8455969e-263b-4f8e-811a-00644b42d79a"
      },
      "execution_count": null,
      "outputs": [
        {
          "output_type": "stream",
          "name": "stdout",
          "text": [
            "Epoch 1/15\n",
            "625/625 [==============================] - 59s 88ms/step - loss: 0.7834 - accuracy: 0.6159 - val_loss: 0.6328 - val_accuracy: 0.6484\n",
            "Epoch 2/15\n",
            "625/625 [==============================] - 54s 86ms/step - loss: 0.5311 - accuracy: 0.7330 - val_loss: 0.4834 - val_accuracy: 0.7726\n",
            "Epoch 3/15\n",
            "625/625 [==============================] - 55s 88ms/step - loss: 0.4422 - accuracy: 0.7941 - val_loss: 0.4685 - val_accuracy: 0.7818\n",
            "Epoch 4/15\n",
            "625/625 [==============================] - 55s 87ms/step - loss: 0.3817 - accuracy: 0.8253 - val_loss: 0.7037 - val_accuracy: 0.7400\n",
            "Epoch 5/15\n",
            "625/625 [==============================] - 54s 86ms/step - loss: 0.3094 - accuracy: 0.8622 - val_loss: 0.4806 - val_accuracy: 0.7988\n",
            "Epoch 6/15\n",
            "625/625 [==============================] - 54s 85ms/step - loss: 0.2395 - accuracy: 0.8964 - val_loss: 0.6248 - val_accuracy: 0.7904\n",
            "Epoch 7/15\n",
            "625/625 [==============================] - 58s 92ms/step - loss: 0.1747 - accuracy: 0.9262 - val_loss: 0.7877 - val_accuracy: 0.7776\n",
            "Epoch 8/15\n",
            "625/625 [==============================] - 55s 88ms/step - loss: 0.1434 - accuracy: 0.9420 - val_loss: 0.7723 - val_accuracy: 0.7940\n",
            "Epoch 9/15\n",
            "625/625 [==============================] - 54s 86ms/step - loss: 0.1060 - accuracy: 0.9578 - val_loss: 0.6469 - val_accuracy: 0.8034\n",
            "Epoch 10/15\n",
            "625/625 [==============================] - 55s 88ms/step - loss: 0.0874 - accuracy: 0.9649 - val_loss: 1.1046 - val_accuracy: 0.7884\n",
            "Epoch 11/15\n",
            "625/625 [==============================] - 54s 87ms/step - loss: 0.0764 - accuracy: 0.9700 - val_loss: 0.7947 - val_accuracy: 0.7824\n",
            "Epoch 12/15\n",
            "625/625 [==============================] - 55s 87ms/step - loss: 0.0700 - accuracy: 0.9725 - val_loss: 0.6899 - val_accuracy: 0.8156\n",
            "Epoch 13/15\n",
            "625/625 [==============================] - 55s 88ms/step - loss: 0.0574 - accuracy: 0.9787 - val_loss: 0.7626 - val_accuracy: 0.8144\n",
            "Epoch 14/15\n",
            "625/625 [==============================] - 54s 85ms/step - loss: 0.0524 - accuracy: 0.9809 - val_loss: 0.8126 - val_accuracy: 0.8144\n",
            "Epoch 15/15\n",
            "625/625 [==============================] - 53s 84ms/step - loss: 0.0511 - accuracy: 0.9800 - val_loss: 1.0455 - val_accuracy: 0.8044\n"
          ]
        }
      ]
    },
    {
      "cell_type": "code",
      "source": [
        "import matplotlib.pyplot as plt\n",
        "plt.plot(history.history[\"accuracy\"], color = \"red\", label = \"train\")\n",
        "plt.plot(history.history[\"val_accuracy\"], color = \"blue\", label = \"validation\")\n",
        "plt.legend()\n",
        "plt.show()"
      ],
      "metadata": {
        "colab": {
          "base_uri": "https://localhost:8080/",
          "height": 265
        },
        "id": "Utu5yRp3oQAK",
        "outputId": "5a4db261-5ce3-4b79-cb24-1e4f47959d36"
      },
      "execution_count": null,
      "outputs": [
        {
          "output_type": "display_data",
          "data": {
            "text/plain": [
              "<Figure size 432x288 with 1 Axes>"
            ],
            "image/png": "[encoded data removed]"
          },
          "metadata": {
            "needs_background": "light"
          }
        }
      ]
    },
    {
      "cell_type": "code",
      "source": [
        "plt.plot(history.history[\"loss\"], color = \"red\", label = \"train\")\n",
        "plt.plot(history.history[\"val_loss\"], color = \"blue\", label = \"validation\")\n",
        "plt.legend()\n",
        "plt.show()"
      ],
      "metadata": {
        "colab": {
          "base_uri": "https://localhost:8080/",
          "height": 265
        },
        "id": "T-6m0ULrpFO3",
        "outputId": "a5b31e5a-7de6-4b26-e46d-e2285c2d82d3"
      },
      "execution_count": null,
      "outputs": [
        {
          "output_type": "display_data",
          "data": {
            "text/plain": [
              "<Figure size 432x288 with 1 Axes>"
            ],
            "image/png": "[encoded data removed]"
          },
          "metadata": {
            "needs_background": "light"
          }
        }
      ]
    }
  ]
}